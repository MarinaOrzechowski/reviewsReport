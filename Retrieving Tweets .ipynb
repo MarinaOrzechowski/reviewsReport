{
 "cells": [
  {
   "cell_type": "code",
   "execution_count": 14,
   "metadata": {},
   "outputs": [],
   "source": [
    "import requests\n",
    "import os\n",
    "import json\n",
    "\n",
    "# To set your enviornment variables in your terminal run the following line:\n",
    "# export 'BEARER_TOKEN'='AAAAAAAAAAAAAAAAAAAAAGjZKQEAAAAAYwtnpYy0DtLasnykKCsj23%2FNsJM%3D8T1e6t2ZzAuNV8k2pETe8GBJ39MVrTF1w8JgntN1EXwW7TGAw3'\n",
    "\n",
    "\n",
    "def auth():\n",
    "    return os.environ.get(\"BEARER_TOKEN\")\n",
    "\n",
    "\n",
    "def create_url():\n",
    "    query = \"to:BofA_Help\"\n",
    "    # Tweet fields are adjustable.\n",
    "    # Options include:\n",
    "    # attachments, author_id, context_annotations,\n",
    "    # conversation_id, created_at, entities, geo, id,\n",
    "    # in_reply_to_user_id, lang, non_public_metrics, organic_metrics,\n",
    "    # possibly_sensitive, promoted_metrics, public_metrics, referenced_tweets,\n",
    "    # source, text, and withheld\n",
    "    tweet_fields = \"tweet.fields=created_at\"\n",
    "    url = \"https://api.twitter.com/2/tweets/search/recent?query={}&{}\".format(\n",
    "        query, tweet_fields\n",
    "    )\n",
    "    return url\n",
    "\n",
    "\n",
    "def create_headers(bearer_token):\n",
    "    headers = {\"Authorization\": \"Bearer {}\".format(bearer_token)}\n",
    "    return headers\n",
    "\n",
    "\n",
    "def connect_to_endpoint(url, headers):\n",
    "    response = requests.request(\"GET\", url, headers=headers)\n",
    "    print(response.status_code)\n",
    "    if response.status_code != 200:\n",
    "        raise Exception(response.status_code, response.text)\n",
    "    return response.json()\n"
   ]
  },
  {
   "cell_type": "code",
   "execution_count": 15,
   "metadata": {
    "scrolled": false
   },
   "outputs": [
    {
     "name": "stdout",
     "output_type": "stream",
     "text": [
      "200\n"
     ]
    }
   ],
   "source": [
    "\n",
    "bearer_token = 'AAAAAAAAAAAAAAAAAAAAAGjZKQEAAAAAYwtnpYy0DtLasnykKCsj23%2FNsJM%3D8T1e6t2ZzAuNV8k2pETe8GBJ39MVrTF1w8JgntN1EXwW7TGAw3'\n",
    "url = create_url()\n",
    "headers = create_headers(bearer_token)\n",
    "json_response = connect_to_endpoint(url, headers)\n",
    "result = json.dumps(json_response, indent=4, sort_keys=True)"
   ]
  },
  {
   "cell_type": "code",
   "execution_count": 16,
   "metadata": {},
   "outputs": [
    {
     "name": "stdout",
     "output_type": "stream",
     "text": [
      "{\n",
      "    \"data\": [\n",
      "        {\n",
      "            \"created_at\": \"2020-12-08T14:31:04.000Z\",\n",
      "            \"id\": \"1336317375491272704\",\n",
      "            \"text\": \"@BofA_Help Whatever lying pieces of crap.  Just like this \\u201chelp\\u201d I got and haven\\u2019t been able to speak to the bitch ever since.  Returns no emails , no phone calls.  Get used to me today. https://t.co/t6cxw8dCAX\"\n",
      "        },\n",
      "        {\n",
      "            \"created_at\": \"2020-12-08T14:25:14.000Z\",\n",
      "            \"id\": \"1336315907019255808\",\n",
      "            \"text\": \"@BofA_Help I am meeting with atty today to address BOA fraud negligence \\n11.5k stolen from business account \\nImagine having to retain counsel to recover your own money from a bank youve been a customer with since 1993 when you were still Nations Bank\"\n",
      "        },\n",
      "        {\n",
      "            \"created_at\": \"2020-12-08T14:07:07.000Z\",\n",
      "            \"id\": \"1336311349979336705\",\n",
      "            \"text\": \"@BofA_Help I do. Claim 11set2020-829038\"\n",
      "        },\n",
      "        {\n",
      "            \"created_at\": \"2020-12-08T08:03:08.000Z\",\n",
      "            \"id\": \"1336219750486081537\",\n",
      "            \"text\": \"@BofA_Help It's been almost 2 weeks!  What kind of investigation are you doing while people are desperately waiting?  @BofA_Help @BankofAmerica @BofA_News @CA_EDD @KamalaHarris\"\n",
      "        },\n",
      "        {\n",
      "            \"created_at\": \"2020-12-08T03:39:49.000Z\",\n",
      "            \"id\": \"1336153484563865601\",\n",
      "            \"text\": \"@BofA_Help @ZelleSupport I literally hate you both !\"\n",
      "        },\n",
      "        {\n",
      "            \"created_at\": \"2020-12-08T02:27:04.000Z\",\n",
      "            \"id\": \"1336135175055544320\",\n",
      "            \"text\": \"@BofA_Help Dear Team, I have trouble signing in to my account, can you please help me?\"\n",
      "        },\n",
      "        {\n",
      "            \"created_at\": \"2020-12-08T01:27:06.000Z\",\n",
      "            \"id\": \"1336120084415344640\",\n",
      "            \"text\": \"@BofA_Help @BankofAmerica Your policy: a #DurablePowerofAttorney is insufficient when the Primary is #incapacitated. The Primary/Account Owner, and their DPoA, can't touch the account &amp; safety deposit box until Account Owner dies &amp; someone inherits. My attorney says that's #flatoutwrong\"\n",
      "        },\n",
      "        {\n",
      "            \"created_at\": \"2020-12-08T00:59:50.000Z\",\n",
      "            \"id\": \"1336113223309856768\",\n",
      "            \"text\": \"@BofA_Help I just sent you a PM with details.\"\n",
      "        },\n",
      "        {\n",
      "            \"created_at\": \"2020-12-07T23:51:43.000Z\",\n",
      "            \"id\": \"1336096078765170689\",\n",
      "            \"text\": \"@BofA_Help I need assistance with an ATM issue.\\nI have been on hold with you all for over 20 minutes.\"\n",
      "        },\n",
      "        {\n",
      "            \"created_at\": \"2020-12-07T23:45:00.000Z\",\n",
      "            \"id\": \"1336094387948949504\",\n",
      "            \"text\": \"@BofA_Help Please rethink your policy on how you handle non-BoA card captures in the future. I appreciate the apology. Happy holidays.\"\n",
      "        }\n",
      "    ],\n",
      "    \"meta\": {\n",
      "        \"newest_id\": \"1336317375491272704\",\n",
      "        \"next_token\": \"b26v89c19zqg8o3foseufn23iebnq61ztmhmh50vlgp6l\",\n",
      "        \"oldest_id\": \"1336094387948949504\",\n",
      "        \"result_count\": 10\n",
      "    }\n",
      "}\n"
     ]
    }
   ],
   "source": [
    "print(result)\n"
   ]
  },
  {
   "cell_type": "code",
   "execution_count": null,
   "metadata": {},
   "outputs": [],
   "source": []
  }
 ],
 "metadata": {
  "kernelspec": {
   "display_name": "Python 3",
   "language": "python",
   "name": "python3"
  },
  "language_info": {
   "codemirror_mode": {
    "name": "ipython",
    "version": 3
   },
   "file_extension": ".py",
   "mimetype": "text/x-python",
   "name": "python",
   "nbconvert_exporter": "python",
   "pygments_lexer": "ipython3",
   "version": "3.7.7"
  }
 },
 "nbformat": 4,
 "nbformat_minor": 4
}
